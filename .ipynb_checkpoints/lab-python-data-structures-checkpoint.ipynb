{
 "cells": [
  {
   "cell_type": "markdown",
   "metadata": {
    "tags": []
   },
   "source": [
    "# Lab | Data Structures "
   ]
  },
  {
   "cell_type": "raw",
   "metadata": {},
   "source": [
    "## Exercise: Managing Customer Orders\n",
    "\n",
    "As part of a business venture, you are starting an online store that sells various products. To ensure smooth operations, you need to develop a program that manages customer orders and inventory.\n",
    "\n",
    "Follow the steps below to complete the exercise:\n",
    "\n",
    "1. Define a list called `products` that contains the following items: \"t-shirt\", \"mug\", \"hat\", \"book\", \"keychain\".\n",
    "\n",
    "2. Create an empty dictionary called `inventory`.\n",
    "\n",
    "3. Ask the user to input the quantity of each product available in the inventory. Use the product names from the `products` list as keys in the `inventory` dictionary and assign the respective quantities as values.\n",
    "\n",
    "4. Create an empty set called `customer_orders`.\n",
    "\n",
    "5. Ask the user to input the name of three products that a customer wants to order (from those in the products list, meaning three products out of \"t-shirt\", \"mug\", \"hat\", \"book\" or \"keychain\". Add each product name to the `customer_orders` set.\n",
    "\n",
    "6. Print the products in the `customer_orders` set.\n",
    "\n",
    "7. Calculate the following order statistics:\n",
    "   - Total Products Ordered: The total number of products in the `customer_orders` set.\n",
    "   - Percentage of Products Ordered: The percentage of products ordered compared to the total available products.\n",
    "   \n",
    "   Store these statistics in a tuple called `order_status`.\n",
    "\n",
    "8. Print the order statistics using the following format:\n",
    "   ```\n",
    "   Order Statistics:\n",
    "   Total Products Ordered: <total_products_ordered>\n",
    "   Percentage of Products Ordered: <percentage_ordered>% \n",
    "   ```\n",
    "\n",
    "9. Update the inventory by subtracting 1 from the quantity of each product. Modify the `inventory` dictionary accordingly.\n",
    "\n",
    "10. Print the updated inventory, displaying the quantity of each product on separate lines.\n",
    "\n",
    "Solve the exercise by implementing the steps using the Python concepts of lists, dictionaries, sets, and basic input/output operations. "
   ]
  },
  {
   "cell_type": "code",
   "execution_count": null,
   "metadata": {},
   "outputs": [],
   "source": [
    "                                                                    # Version 1  - \n",
    "\n",
    "\"\"\" -> triple commas makes text below as string (not executable)\n",
    "triple commas at the end to stop the not executable text <- \"\"\"\"\n",
    "\n",
    "# Step 1 - Creating list\n",
    "\"\"\"\n",
    "products = [\"t-shirt\", \"mug\", \"hat\", \"book\", \"keychain\"]\n",
    "\"\"\"\n",
    "# Step 2 - Creating empty dictionary\n",
    "\"\"\"\n",
    "inventory = {}\n",
    "\"\"\"\n",
    "\n",
    "# Step 3 Asking for inventory input\n",
    "\"\"\"\n",
    "tshirt_quantity = int(input(\"How many t-shirts do you have in inventory?:\"))  \n",
    "mug_quantity = int(input(\"How many mugs do you have in inventory?\"))\n",
    "book_quantity= int(input(\"How many books do you have in inventory?\"))\n",
    "hat_quantity= int(input(\"How many hats do you have in inventory?\"))\n",
    "keychain_quantity= int(input(\"How many keychain do you have in inventory?\"))\n",
    "\n",
    "inventory = {'t-shirts': tshirt_quanity, 'mugs': mug_quantity, 'books': book_quantity, 'hats': hat_quantity, 'keychains': keychain_quantity}\n",
    "\n",
    "print(inventory)\n",
    "\n",
    "\"\"\""
   ]
  },
  {
   "cell_type": "code",
   "execution_count": null,
   "metadata": {},
   "outputs": [],
   "source": [
    "                                                                    # Version 1  -  \n",
    "\n",
    "# Step 4 Creating Empty Set\n",
    "\n",
    "\"\"\"\n",
    "customer_orders = {}\n",
    "\n",
    "Step 5 - 6\n",
    "\n",
    "order_1 = input(\"Please input your first product:\")\n",
    "order_2 = input(\"Please input your second product:\")\n",
    "order_3 = input(\"Please input your third product:\")\n",
    "\n",
    "\"\"\""
   ]
  },
  {
   "cell_type": "code",
   "execution_count": null,
   "metadata": {},
   "outputs": [],
   "source": [
    "# Step 7\n",
    "\"\"\"\n",
    "customer_orders_length = len(customer_orders)\n",
    "print(len(customer_orders))\n",
    "\n",
    "total_products_ordered = sum(inventory.values()) -> suggestion, name change (total_products_inventory)\n",
    "percentage_ordered = (customer_orders_length / total_products_ordered) * 100 \n",
    "\"\"\"\n",
    "# Step 8\n",
    "\"\"\"\n",
    "print(f\"Total Products Ordered: {total_value}\")\n",
    "print(\"Total Products Ordered:\",round(percentage_ordered, 2), \"%\")\"\"\""
   ]
  },
  {
   "cell_type": "code",
   "execution_count": 3,
   "metadata": {},
   "outputs": [],
   "source": [
    "                                                                    # Version 1.1  - \n",
    "# Step 1 - Creating list\n",
    "\n",
    "\n",
    "products = [\"t-shirt\", \"mug\", \"hat\", \"book\", \"keychain\"]\n",
    "\n",
    "\n",
    "# Step 2 - Creating empty dictionary\n",
    "\n",
    "\n",
    "inventory = {}\n"
   ]
  },
  {
   "cell_type": "code",
   "execution_count": 13,
   "metadata": {},
   "outputs": [],
   "source": [
    "# Step 3 Asking for inventory input\n",
    "\n",
    "\n",
    "while len(inventory) < len(products): # will loop until the ammount of in inventory is the same as in products.\n",
    "    \n",
    "    print(\"Available Products: \", products) # lets owner know available product names \n",
    "    \n",
    "    owner_products = input(\"Enter the product name to add in inventory: \") # adds a variable to the product name the owner will set.\n",
    "    \n",
    "   \n",
    "    if owner_products not in products: # ensures owner product choice matches inventory availability\n",
    "        \n",
    "        print(\"That product is not available\")\n",
    "        \n",
    "        continue\n",
    "\n",
    "    owner_product_amount = int(input(f\"Enter the amount for {owner_products}: \")) # adds a variable to the product value the owner will set.\n",
    "    \n",
    "   \n",
    "    if owner_products in inventory: # checks if product is already set in inventory.\n",
    "            \n",
    "        inventory[owner_products] += owner_product_amount # goes to the inventory and if the product is already there sums the current ammount to the new set ammount. [owner_products] ensures we adding the value to the present key we adding in the loop.\n",
    "            \n",
    "    else:\n",
    "            \n",
    "        inventory[owner_products] = owner_product_amount # if owner product not in inventory adds the new one to it.\n",
    "        "
   ]
  },
  {
   "cell_type": "code",
   "execution_count": 52,
   "metadata": {},
   "outputs": [
    {
     "name": "stdout",
     "output_type": "stream",
     "text": [
      "Final inventory:  {'t-shirt': 50, 'mug': 40, 'hat': 60, 'book': 120, 'keychain': 120}\n"
     ]
    }
   ],
   "source": [
    "print(\"Final inventory: \", inventory)"
   ]
  },
  {
   "cell_type": "code",
   "execution_count": null,
   "metadata": {},
   "outputs": [],
   "source": [
    "# Step 4 & 5 & 6 - From the available products ask buyer to select 3 products and make the order ammount for each of them individually\n",
    "\n",
    "customer_orders = {}\n",
    "\n",
    "while len(customer_orders.keys()) != 3:\n",
    "    \n",
    "    print(\"Available Products: \", inventory)\n",
    "\n",
    "    buyer_order = input(\"Enter the product name to buy: \")\n",
    "\n",
    "\n",
    "    if buyer_order not in inventory:\n",
    "            \n",
    "        print(\"That product is not available\")\n",
    "        continue\n",
    "        \n",
    "    buyer_product_amount = int(input(f\"Enter the amount for {buyer_order}: \"))\n",
    "    \n",
    "   \n",
    "    if buyer_order in customer_orders:\n",
    "            \n",
    "        customer_orders[buyer_order] += buyer_product_amount\n",
    "            \n",
    "    else:\n",
    "            \n",
    "        customer_orders[buyer_order] = buyer_product_amount\n",
    "    "
   ]
  },
  {
   "cell_type": "code",
   "execution_count": 54,
   "metadata": {},
   "outputs": [
    {
     "name": "stdout",
     "output_type": "stream",
     "text": [
      "Customer Orders: {'mug': 13, 'hat': 30, 'book': 80}\n"
     ]
    }
   ],
   "source": [
    "print(\"Customer Orders:\", customer_orders) "
   ]
  },
  {
   "cell_type": "code",
   "execution_count": null,
   "metadata": {},
   "outputs": [],
   "source": [
    "Calculate the following order statistics:\n",
    "\n",
    "Total Products Ordered: The total number of products in the customer_orders set.\n",
    "Percentage of Products Ordered: The percentage of products ordered compared to the total available products.\n",
    "Store these statistics in a tuple called order_status."
   ]
  },
  {
   "cell_type": "code",
   "execution_count": 76,
   "metadata": {},
   "outputs": [
    {
     "name": "stdout",
     "output_type": "stream",
     "text": [
      "Inventory Total Order Sum:  390\n",
      "Customer Total Order Sum:  123\n",
      "Customer Total Order Sum:  31.5 %\n"
     ]
    }
   ],
   "source": [
    "# Step 7 - \n",
    "# Number of total orders in customers_orders set\n",
    "# Percentage of products orders compared to the total available products.\n",
    "# Combine the 2 previous results into a tuple\n",
    "\n",
    "customer_orders_total = sum(customer_orders.values())\n",
    "\n",
    "inventory_total = sum(inventory.values())\n",
    "\n",
    "print(\"Inventory Total Order Sum: \",inventory_total)\n",
    "\n",
    "print(\"Customer Total Order Sum: \",customer_orders_total)\n",
    "\n",
    "order_inventory_ratio = (customer_orders_total / inventory_total) * 100\n",
    "\n",
    "print(\"Customer Total Order Sum: \",round(order_inventory_ratio, 1), \"%\")"
   ]
  },
  {
   "cell_type": "code",
   "execution_count": 83,
   "metadata": {},
   "outputs": [
    {
     "name": "stdout",
     "output_type": "stream",
     "text": [
      "(31.5, 390)\n"
     ]
    }
   ],
   "source": [
    "# Step 8 -\n",
    "# Store the previous statistics in a tuple called order status\n",
    "\n",
    "order_status = (inventory_total, round(order_inventory_ratio, 1))\n",
    "\n",
    "print(order_status)"
   ]
  },
  {
   "cell_type": "code",
   "execution_count": 115,
   "metadata": {},
   "outputs": [
    {
     "name": "stdout",
     "output_type": "stream",
     "text": [
      "Inventory {'t-shirt': 50, 'mug': 40, 'hat': 60, 'book': 120, 'keychain': 120}\n",
      "Updated Inventory:  {'t-shirt': 49, 'mug': 39, 'hat': 59, 'book': 119, 'keychain': 119}\n"
     ]
    }
   ],
   "source": [
    "# Step 9 - \n",
    "# subtract 1 from each product value inside inventory\n",
    "\n",
    "print(\"Inventory\", inventory)\n",
    "\n",
    "updated_inventory = inventory.copy()\n",
    "\n",
    "for key, value in inventory.items():\n",
    "   \n",
    "    updated_inventory[key] = value - 1\n",
    "\n",
    "print(\"Updated Inventory: \", updated_inventory)"
   ]
  },
  {
   "cell_type": "code",
   "execution_count": 135,
   "metadata": {},
   "outputs": [
    {
     "name": "stdout",
     "output_type": "stream",
     "text": [
      "Product : T-shirt - 49 units\n",
      "Product : Mug - 39 units\n",
      "Product : Hat - 59 units\n",
      "Product : Book - 119 units\n",
      "Product : Keychain - 119 units\n"
     ]
    }
   ],
   "source": [
    "# Step 10 -\n",
    "\n",
    "# print updated inventory showing each product and its value in each paragraph\n",
    "\n",
    "for key, value in updated_inventory.items():\n",
    "    \n",
    "    print(f\"Product : {key.capitalize()} - {value} units\")\n",
    "    "
   ]
  },
  {
   "cell_type": "code",
   "execution_count": null,
   "metadata": {},
   "outputs": [],
   "source": []
  }
 ],
 "metadata": {
  "kernelspec": {
   "display_name": "Python 3 (ipykernel)",
   "language": "python",
   "name": "python3"
  },
  "language_info": {
   "codemirror_mode": {
    "name": "ipython",
    "version": 3
   },
   "file_extension": ".py",
   "mimetype": "text/x-python",
   "name": "python",
   "nbconvert_exporter": "python",
   "pygments_lexer": "ipython3",
   "version": "3.12.3"
  }
 },
 "nbformat": 4,
 "nbformat_minor": 4
}
